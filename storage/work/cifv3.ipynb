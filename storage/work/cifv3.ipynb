{
    "cells": [
     {
      "cell_type": "markdown",
      "id": "e958c023",
      "metadata": {},
      "source": [
       "### Instructions\n",
       "1. Edit CIF_REMOTE, CIF_READ_TOKEN, and CIF_WRITE_TOKEN below\n",
       "2. After editing, click into each shell and hit Shift+Enter to save/run those commands\n",
       "3. The last cell is a CIF cli command to return the latest 5 TLP:WHITE fqdn indicators\n",
       "4. Keep exploring"
      ]
     },
     {
      "cell_type": "code",
      "execution_count": 30,
      "id": "fbf6f70a",
      "metadata": {},
      "outputs": [],
      "source": [
       "CIF_REMOTE = 'https://path.to.cif.remote.tld'"
      ]
     },
     {
      "cell_type": "code",
      "execution_count": 31,
      "id": "e227dc33",
      "metadata": {},
      "outputs": [],
      "source": [
       "CIF_READ_TOKEN = 'READ_TOKEN_HERE'"
      ]
     },
     {
      "cell_type": "code",
      "execution_count": 32,
      "id": "57a2e92b",
      "metadata": {},
      "outputs": [],
      "source": [
       "CIF_WRITE_TOKEN = 'WRITE_TOKEN_HERE'"
      ]
     },
     {
      "cell_type": "markdown",
      "id": "7d7fad0f",
      "metadata": {},
      "source": [
       "The code below creates a new Jupyter notebook magic function that will be used later"
      ]
     },
     {
      "cell_type": "code",
      "execution_count": 54,
      "id": "60084486",
      "metadata": {},
      "outputs": [],
      "source": [
       "from IPython.core.magic import register_line_cell_magic\n",
       "from pathlib import Path\n",
       "\n",
       "@register_line_cell_magic\n",
       "def writetemplate(line, cell):\n",
       "    filename = Path(line)\n",
       "    filename.touch(exist_ok=True)\n",
       "    with open(filename, 'w') as f:\n",
       "        f.write(cell.format(**globals()))"
      ]
     },
     {
      "cell_type": "markdown",
      "id": "611ec1cd",
      "metadata": {},
      "source": [
       "The cmd below creates a tmp .cif.yml config file in the container user's home dir"
      ]
     },
     {
      "cell_type": "code",
      "execution_count": 56,
      "id": "2c82fa87",
      "metadata": {},
      "outputs": [],
      "source": [
       "%%writetemplate /home/jovyan/.cif.yml\n",
       "client:\n",
       "  remote: {CIF_REMOTE}\n",
       "  read_token: {CIF_READ_TOKEN}\n",
       "  write_token: {CIF_WRITE_TOKEN}\n",
       "  no_verify_ssl: true"
      ]
     },
     {
      "cell_type": "markdown",
      "id": "3d65f89c",
      "metadata": {},
      "source": [
       "The following code prevents the GUI from creating clickable links out of real URLs"
      ]
     },
     {
      "cell_type": "code",
      "execution_count": 58,
      "id": "16694d87",
      "metadata": {},
      "outputs": [
       {
        "data": {
         "application/javascript": [
          "Jupyter.utils.autoLinkUrls = function (txt) {\n",
          "    return txt;\n",
          "}\n"
         ],
         "text/plain": [
          "<IPython.core.display.Javascript object>"
         ]
        },
        "metadata": {},
        "output_type": "display_data"
       }
      ],
      "source": [
       "%%javascript\n",
       "Jupyter.utils.autoLinkUrls = function (txt) {\n",
       "    return txt;\n",
       "}"
      ]
     },
     {
      "cell_type": "code",
      "execution_count": null,
      "id": "70c3f7bc",
      "metadata": {},
      "outputs": [],
      "source": [
       "!!cif --no-feed --itype fqdn --limit 5 --tlp white"
      ]
     }
    ],
    "metadata": {
     "kernelspec": {
      "display_name": "Python 3 (ipykernel)",
      "language": "python",
      "name": "python3"
     },
     "language_info": {
      "codemirror_mode": {
       "name": "ipython",
       "version": 3
      },
      "file_extension": ".py",
      "mimetype": "text/x-python",
      "name": "python",
      "nbconvert_exporter": "python",
      "pygments_lexer": "ipython3",
      "version": "3.9.6"
     }
    },
    "nbformat": 4,
    "nbformat_minor": 5
   }
   